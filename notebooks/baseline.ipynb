{
 "cells": [
  {
   "cell_type": "code",
   "execution_count": 10,
   "metadata": {},
   "outputs": [],
   "source": [
    "import numpy as np\n",
    "from pathlib import Path\n",
    "from quick_calib.camera import get_calib_from_vp, get_vp_from_calib\n",
    "\n",
    "# vanishing points for each video\n",
    "# labeled\n",
    "vanishing_points = np.array([\n",
    "    # labeled\n",
    "    [614, 410],\n",
    "    [591, 382],\n",
    "    [639, 408],\n",
    "    [595, 422],\n",
    "    [631, 424],\n",
    "    # unlabed\n",
    "    [622, 427],\n",
    "    [562, 403], # \n",
    "    [542, 420], # \n",
    "    # [632, 542], # \n",
    "    [632, 453], # \n",
    "    [600, 435],\n",
    "])\n",
    "\n",
    "OUTPUT_DIR = Path(\"../data/calib_challenge/test/\")\n",
    "OUTPUT_DIR.mkdir(exist_ok=True)\n",
    "\n",
    "for i in range(5):\n",
    "    _, pitch, yaw = get_calib_from_vp(vanishing_points[i])\n",
    "\n",
    "    # get nb frames in video\n",
    "    nb_frames = len(list(Path(f\"../data/calib_challenge/labeled/{i}/\").glob(\"*.jpg\")))\n",
    "\n",
    "    # make numpy array of shape (nb_frames, 2)\n",
    "    # where each row is (pitch, yaw)\n",
    "    calib = np.array([[pitch, yaw]] * nb_frames)\n",
    "    np.savetxt(OUTPUT_DIR / f\"{i}.txt\", calib)\n",
    "\n",
    "for i in range(5, 10):\n",
    "    _, pitch, yaw = get_calib_from_vp(vanishing_points[i])\n",
    "    nb_frames = len(list(Path(f\"../data/calib_challenge/unlabeled/{i}/\").glob(\"*.jpg\")))\n",
    "    calib = np.array([[pitch, yaw]] * nb_frames)\n",
    "    np.savetxt(OUTPUT_DIR / f\"{i}.txt\", calib)"
   ]
  },
  {
   "cell_type": "code",
   "execution_count": 7,
   "metadata": {},
   "outputs": [
    {
     "name": "stderr",
     "output_type": "stream",
     "text": [
      "100%|██████████| 1200/1200 [00:08<00:00, 149.67it/s]\n",
      "100%|██████████| 1200/1200 [00:09<00:00, 132.54it/s]\n",
      "100%|██████████| 1200/1200 [00:10<00:00, 113.35it/s]\n",
      "100%|██████████| 1200/1200 [00:07<00:00, 155.92it/s]\n",
      "100%|██████████| 1200/1200 [00:08<00:00, 142.53it/s]\n"
     ]
    }
   ],
   "source": [
    "# viz calib\n",
    "import cv2\n",
    "from tqdm import trange\n",
    "\n",
    "for i in range(5, 10):\n",
    "    video = cv2.VideoCapture(f\"../data/calib_challenge/unlabeled/{i}.hevc\")\n",
    "    output = f\"../data/calib_challenge/{i}.mp4\"\n",
    "    \n",
    "    labels = np.loadtxt(f\"../data/calib_challenge/test/{i}.txt\")\n",
    "\n",
    "    # get video size\n",
    "    frame_width = int(video.get(3))\n",
    "    frame_height = int(video.get(4))\n",
    "    \n",
    "    size = (frame_width, frame_height)\n",
    "    result = cv2.VideoWriter(output, \n",
    "                            cv2.VideoWriter_fourcc(*'mp4v'),\n",
    "                            20, size)\n",
    "\n",
    "\n",
    "    # overlay the yaw data on the video\n",
    "    for frame_idx in trange(labels.shape[0]):\n",
    "        # get the next frame\n",
    "        ret, frame = video.read()\n",
    "        if not ret:\n",
    "            break\n",
    "\n",
    "        # overlay on the frame\n",
    "        pitch, yaw = labels[frame_idx]\n",
    "        vanishing_point = get_vp_from_calib(pitch, yaw)\n",
    "        cv2.circle(frame, (int(vanishing_point[0]), int(vanishing_point[1])), 5, (0, 0, 255), -1)\n",
    "\n",
    "        result.write(frame)\n",
    "\n",
    "    video.release()\n",
    "    result.release()"
   ]
  }
 ],
 "metadata": {
  "kernelspec": {
   "display_name": ".venv",
   "language": "python",
   "name": "python3"
  },
  "language_info": {
   "codemirror_mode": {
    "name": "ipython",
    "version": 3
   },
   "file_extension": ".py",
   "mimetype": "text/x-python",
   "name": "python",
   "nbconvert_exporter": "python",
   "pygments_lexer": "ipython3",
   "version": "3.11.5"
  }
 },
 "nbformat": 4,
 "nbformat_minor": 2
}
