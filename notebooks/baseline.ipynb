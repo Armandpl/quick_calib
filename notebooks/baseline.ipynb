{
 "cells": [
  {
   "cell_type": "code",
   "execution_count": 7,
   "metadata": {},
   "outputs": [],
   "source": [
    "from quick_calib.camera import get_calib_from_vp\n",
    "from pathlib import Path\n",
    "import numpy as np\n",
    "\n",
    "# vanishing points for each video\n",
    "vanishing_points = np.array([\n",
    "    [614, 410],\n",
    "    [591, 382],\n",
    "    [639, 408],\n",
    "    [595, 422],\n",
    "    [631, 424]\n",
    "])\n",
    "\n",
    "OUTPUT_DIR = Path(\"../data/calib_challenge/test/\")\n",
    "OUTPUT_DIR.mkdir(exist_ok=True)\n",
    "\n",
    "for i in range(5):\n",
    "    _, pitch, yaw = get_calib_from_vp(vanishing_points[i])\n",
    "\n",
    "    # get nb frames in video\n",
    "    nb_frames = np.loadtxt(f\"../data/calib_challenge/labeled/{i}.txt\").shape[0]\n",
    "\n",
    "    # make numpy array of shape (nb_frames, 2)\n",
    "    # where each row is (pitch, yaw)\n",
    "    calib = np.array([[pitch, yaw]] * nb_frames)\n",
    "    np.savetxt(OUTPUT_DIR / f\"{i}.txt\", calib)"
   ]
  }
 ],
 "metadata": {
  "kernelspec": {
   "display_name": ".venv",
   "language": "python",
   "name": "python3"
  },
  "language_info": {
   "codemirror_mode": {
    "name": "ipython",
    "version": 3
   },
   "file_extension": ".py",
   "mimetype": "text/x-python",
   "name": "python",
   "nbconvert_exporter": "python",
   "pygments_lexer": "ipython3",
   "version": "3.11.5"
  }
 },
 "nbformat": 4,
 "nbformat_minor": 2
}
